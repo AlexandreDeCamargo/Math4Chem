{
 "cells": [
  {
   "cell_type": "markdown",
   "metadata": {},
   "source": [
    "# Introduction to Linear Algebra\n",
    "\n",
    "In this section we are going to go over some basic Linear Algebra operations in Python. <a target=\"_blank\" href=\"https://colab.research.google.com/github/ChemAI-Lab/Math4Chem/blob/main/website/Lecture_Notes/Coding/intro_linear_algebra.ipynb\">\n",
    "  <img src=\"https://colab.research.google.com/assets/colab-badge.svg\" alt=\"Open In Colab\"/>\n",
    "</a>"
   ]
  },
  {
   "cell_type": "code",
   "execution_count": 1,
   "metadata": {},
   "outputs": [],
   "source": [
    "import numpy as np\n",
    "import matplotlib\n",
    "import matplotlib.pyplot as plt"
   ]
  },
  {
   "cell_type": "markdown",
   "metadata": {},
   "source": [
    "From our previous lecture, we saw that under the structure of **tensors** we can define the following structures,\n",
    "1. **Scalars** -> zero-order tensors\n",
    "2. **Vectors** -> fist-order tensors\n",
    "3. **Matrices** -> second-order tensors"
   ]
  },
  {
   "cell_type": "code",
   "execution_count": 2,
   "metadata": {},
   "outputs": [
    {
     "name": "stdout",
     "output_type": "stream",
     "text": [
      "scalar\n",
      "shape ()\n",
      "---------------\n",
      "vector\n",
      "shape (1,)\n",
      "shape (6,)\n",
      "---------------\n",
      "matrix\n",
      "[[1 2 3]\n",
      " [4 5 6]\n",
      " [7 8 9]]\n",
      "shape (3, 3)\n",
      "---------------\n"
     ]
    }
   ],
   "source": [
    "# scalar \n",
    "x = np.array(10.)\n",
    "print('scalar')\n",
    "print('shape', x.shape)\n",
    "print('---------------')\n",
    "\n",
    "# vectors\n",
    "x = np.array([10.])\n",
    "print('vector')\n",
    "print('shape', x.shape)\n",
    "\n",
    "x = np.array([10,11,12,13,14,15])\n",
    "print('shape', x.shape)\n",
    "print('---------------')\n",
    "\n",
    "\n",
    "# matrices\n",
    "x = np.array([[1,2,3],[4,5,6],[7,8,9]])\n",
    "print('matrix')\n",
    "print(x)\n",
    "print('shape', x.shape)\n",
    "print('---------------')"
   ]
  },
  {
   "cell_type": "markdown",
   "metadata": {},
   "source": [
    "# Operations on Tensors \n",
    "In class we saw that tensors can have two types of operations:\n",
    "1. Elementwise operations\n",
    "2. Not-elementwise operations "
   ]
  },
  {
   "cell_type": "markdown",
   "metadata": {},
   "source": [
    "## Elementwise operations for vectors\n",
    "1. Scalar multiplication,   ``c*v``\n",
    "2. Vector addition,  ``u + v``\n",
    "3. Elementwise multiplication, ``u*v``"
   ]
  },
  {
   "cell_type": "code",
   "execution_count": 3,
   "metadata": {},
   "outputs": [
    {
     "name": "stdout",
     "output_type": "stream",
     "text": [
      "Vector v: [1 2 3]\n",
      "Scalar multiplication: [2 4 6]\n",
      "Vector addition: [5 7 9]\n",
      "Elementwise multiplication: [ 4 10 18]\n"
     ]
    }
   ],
   "source": [
    "# Defining a vector\n",
    "v = np.array([1, 2, 3])\n",
    "u = np.array([4, 5, 6])\n",
    "print(\"Vector v:\", v)\n",
    "\n",
    "# Basic operations on vectors\n",
    "print(\"Scalar multiplication:\", 2 * v)\n",
    "print(\"Vector addition:\", v + u)\n",
    "print(\"Elementwise multiplication:\",u*v)"
   ]
  },
  {
   "cell_type": "markdown",
   "metadata": {},
   "source": [
    "I am a big fan of Numpy; however given that you are new to python we are going to code these three operations from scratch."
   ]
  },
  {
   "cell_type": "code",
   "execution_count": 18,
   "metadata": {},
   "outputs": [],
   "source": [
    "# Scalar multiplication\n",
    "# write a function that iterates over the vector and multiplies each element with c\n",
    "\n",
    "def scalar_multiplication(c,x):\n",
    "    cx = x.copy()\n",
    "    n = x.shape[0] # number of elements\n",
    "    for i in range(n):\n",
    "        cx[i] = c*x[i]\n",
    "    return cx"
   ]
  },
  {
   "cell_type": "code",
   "execution_count": 19,
   "metadata": {},
   "outputs": [
    {
     "name": "stdout",
     "output_type": "stream",
     "text": [
      "vector [0.96860437 0.24317104 0.14224979 0.91686355 0.76665946]\n",
      "ours [1.93720874 0.48634208 0.28449958 1.8337271  1.53331892]\n",
      "Numpy [1.93720874 0.48634208 0.28449958 1.8337271  1.53331892]\n"
     ]
    }
   ],
   "source": [
    "# test the scalar_multiplication function\n",
    "x = np.random.uniform(size=(5,)) # random vector\n",
    "c = 2. # scalar value \n",
    "print('vector', x)\n",
    "print('ours', scalar_multiplication(c, x))\n",
    "print('Numpy', c*x)"
   ]
  },
  {
   "cell_type": "code",
   "execution_count": 27,
   "metadata": {},
   "outputs": [],
   "source": [
    "# Vector addition\n",
    "# write a function that computes the addition of two vectors. \n",
    "\n",
    "def vector_addition(u,v):\n",
    "    nu = u.shape[0]\n",
    "    nv = v.shape[0]\n",
    "    \n",
    "    u_plus_v = np.zeros_like(u)\n",
    "    for i in range(nu):\n",
    "        u_plus_v[i] = u[i] + v[i]\n",
    "    return u_plus_v"
   ]
  },
  {
   "cell_type": "code",
   "execution_count": 24,
   "metadata": {},
   "outputs": [
    {
     "name": "stdout",
     "output_type": "stream",
     "text": [
      "vector u [0.91919339 0.54248777 0.87139839 0.24713116 0.81257307]\n",
      "vector v [0.27523367 0.9397578  0.88050612 0.53049842 0.42636137]\n",
      "ours [1.19442706 1.48224557 1.75190451 0.77762958 1.23893444]\n",
      "Numpy [1.19442706 1.48224557 1.75190451 0.77762958 1.23893444]\n"
     ]
    }
   ],
   "source": [
    "# test the vector_addition function\n",
    "u = np.random.uniform(size=(5,))  # random vector\n",
    "v = np.random.uniform(size=(5,))  # random vector\n",
    "\n",
    "print('vector u', u)\n",
    "print('vector v', v)\n",
    "print('ours', vector_addition(u, v))\n",
    "print('Numpy', u+v)"
   ]
  },
  {
   "cell_type": "code",
   "execution_count": 26,
   "metadata": {},
   "outputs": [
    {
     "name": "stdout",
     "output_type": "stream",
     "text": [
      "vector u [0.23958816 0.19458448 0.35661607 0.7616097  0.73557192]\n",
      "vector v [0.63002631 0.67544285 0.79867713 0.79017802 0.69620514 0.97445557]\n",
      "ours [0.86961448 0.87002734 1.15529321 1.55178772 1.43177706]\n"
     ]
    },
    {
     "ename": "ValueError",
     "evalue": "operands could not be broadcast together with shapes (5,) (6,) ",
     "output_type": "error",
     "traceback": [
      "\u001b[0;31m---------------------------------------------------------------------------\u001b[0m",
      "\u001b[0;31mValueError\u001b[0m                                Traceback (most recent call last)",
      "Cell \u001b[0;32mIn[26], line 8\u001b[0m\n\u001b[1;32m      6\u001b[0m \u001b[38;5;28mprint\u001b[39m(\u001b[38;5;124m'\u001b[39m\u001b[38;5;124mvector v\u001b[39m\u001b[38;5;124m'\u001b[39m, v)\n\u001b[1;32m      7\u001b[0m \u001b[38;5;28mprint\u001b[39m(\u001b[38;5;124m'\u001b[39m\u001b[38;5;124mours\u001b[39m\u001b[38;5;124m'\u001b[39m, vector_addition(u, v))\n\u001b[0;32m----> 8\u001b[0m \u001b[38;5;28mprint\u001b[39m(\u001b[38;5;124m'\u001b[39m\u001b[38;5;124mNumpy\u001b[39m\u001b[38;5;124m'\u001b[39m, \u001b[43mu\u001b[49m\u001b[38;5;241;43m+\u001b[39;49m\u001b[43mv\u001b[49m)\n",
      "\u001b[0;31mValueError\u001b[0m: operands could not be broadcast together with shapes (5,) (6,) "
     ]
    }
   ],
   "source": [
    "# test the vector_addition function for two vectors with different dimensions\n",
    "u = np.random.uniform(size=(5,))  # random vector\n",
    "v = np.random.uniform(size=(6,))  # random vector\n",
    "\n",
    "print('vector u', u)\n",
    "print('vector v', v)\n",
    "print('ours', vector_addition(u, v))\n",
    "print('Numpy', u+v)"
   ]
  },
  {
   "cell_type": "markdown",
   "metadata": {},
   "source": []
  },
  {
   "cell_type": "markdown",
   "metadata": {},
   "source": [
    "# tes"
   ]
  },
  {
   "cell_type": "code",
   "execution_count": null,
   "metadata": {},
   "outputs": [],
   "source": []
  }
 ],
 "metadata": {
  "kernelspec": {
   "display_name": "chem3pc3",
   "language": "python",
   "name": "python3"
  },
  "language_info": {
   "codemirror_mode": {
    "name": "ipython",
    "version": 3
   },
   "file_extension": ".py",
   "mimetype": "text/x-python",
   "name": "python",
   "nbconvert_exporter": "python",
   "pygments_lexer": "ipython3",
   "version": "3.12.4"
  }
 },
 "nbformat": 4,
 "nbformat_minor": 2
}
