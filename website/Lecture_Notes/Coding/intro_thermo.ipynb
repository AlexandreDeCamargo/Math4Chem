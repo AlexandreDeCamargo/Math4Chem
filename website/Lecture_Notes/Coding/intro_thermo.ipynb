{
 "cells": [
  {
   "cell_type": "markdown",
   "metadata": {},
   "source": [
    "# Intro to Python and First law of Thermodynamics\n",
    "\n",
    "In this tutorial we are going to go over some basic operations in Python that will guide you through the course and as an example we will use some of the thermodynamic concepts learned in class. \n",
    "This tutorial was heavily based on this [repo](https://sean-fitzpatrick.github.io/CalcLabs/IntrotoPython.html).  "
   ]
  },
  {
   "cell_type": "code",
   "execution_count": 1,
   "metadata": {},
   "outputs": [],
   "source": [
    "# import numpy as matplotlib \n",
    "\n",
    "import numpy as np\n",
    "import matplotlib\n",
    "import matplotlib.pyplot as plt"
   ]
  },
  {
   "cell_type": "markdown",
   "metadata": {},
   "source": [
    "# Thermodynamics recap\n",
    "\n",
    "## First Law of Thermodynamics\n",
    "\n",
    "The change in the internal energy (U) of a system is the sum of the heat (q) transferred to the system and the work (w) done on the system,\n",
    "$$\n",
    "dU = q + w\n",
    "$$\n",
    "\n",
    "## Heat\n",
    "The energy that flows in between two objects that are at different temperatures. At constant pressure processes we can define heat as,\n",
    "$$\n",
    "dq_{p} = C_{P}dT,\n",
    "$$\n",
    "where $C_{P}$ is is the heat capacity of a substance at constant pressure, $C_{P} = mc_{p}$ where $m$ is the mass.\n",
    "\n",
    "## P-V Work\n",
    "Work in thermodynamics is defined as in classical mechanics, the energy transferred to a system by applying an external force along a displacement. \n",
    "In thermodynamics, one of the most common ways to do wok on a system is by changing the volume of the system through compression of expansion (P-V work).\n",
    "P-V work is defined as,\n",
    "$$\n",
    "w = -\\int_{V_{i}}^{V_{f}} P(T,V) dV\n",
    "$$\n",
    "where $P(T,V)$ is a function that describes the pressure of the system as a function of temperature (T) and its volume (V).\n",
    "This type of integrals are known as **line integrals**. \n",
    "\n"
   ]
  },
  {
   "cell_type": "markdown",
   "metadata": {},
   "source": []
  },
  {
   "cell_type": "markdown",
   "metadata": {},
   "source": [
    "## Line integral\n",
    "Let's compute the work done by a processes where the Pressure is given by,\n",
    "$$\n",
    "P(V) = \\sin(V) + a V + b,\n",
    "$$\n",
    "where $a = -0.55$ and $b = 10.55$.\n",
    "\n",
    "The initial and final volume for this processes are, $V_i = 10$ and $V_f=5$.\n"
   ]
  },
  {
   "cell_type": "code",
   "execution_count": null,
   "metadata": {},
   "outputs": [],
   "source": [
    "# define the P function\n",
    "# def f_P(v):\n",
    "#     # code here\n",
    "#     return p\n",
    "\n",
    "\n",
    "# plot this process V vs P where the area under the curve is also coloured \n",
    "# tips, plt.fill_between() \n",
    "# https://matplotlib.org/stable/api/_as_gen/matplotlib.axes.Axes.fill_between.html#matplotlib.axes.Axes.fill_between"
   ]
  },
  {
   "cell_type": "code",
   "execution_count": 48,
   "metadata": {},
   "outputs": [
    {
     "data": {
      "text/plain": [
       "Text(0, 0.5, 'P')"
      ]
     },
     "execution_count": 48,
     "metadata": {},
     "output_type": "execute_result"
    },
    {
     "data": {
      "image/png": "[encoded data removed]",
      "text/plain": [
       "<Figure size 640x480 with 1 Axes>"
      ]
     },
     "metadata": {},
     "output_type": "display_data"
    }
   ],
   "source": [
    "def f_P(V):\n",
    "    a = -0.55\n",
    "    b = 10.55\n",
    "    p = np.sin(V) + a*V + b\n",
    "    return p\n",
    "\n",
    "vi = 1.\n",
    "vf = 10\n",
    "\n",
    "n = 100\n",
    "v = np.linspace(vi, vf, n)\n",
    "p = f_P(v)\n",
    "\n",
    "# plotting\n",
    "plt.plot(v, p)\n",
    "plt.fill_between(v,p,alpha=0.2)\n",
    "plt.ylim(0,np.max(p)+1.1)\n",
    "plt.xlabel('V',fontsize=20)\n",
    "plt.ylabel('P', fontsize=20)"
   ]
  },
  {
   "cell_type": "markdown",
   "metadata": {},
   "source": [
    "What are the initial and final pressure? "
   ]
  },
  {
   "cell_type": "code",
   "execution_count": null,
   "metadata": {},
   "outputs": [],
   "source": [
    "# code here"
   ]
  },
  {
   "cell_type": "markdown",
   "metadata": {},
   "source": [
    "Using numerical integration, compute the value of the work for this process."
   ]
  },
  {
   "cell_type": "code",
   "execution_count": 30,
   "metadata": {},
   "outputs": [],
   "source": [
    "# code here\n",
    "# vi = # variable for initial volume\n",
    "# vf = # variable for final volume\n",
    "# n = # number of points for the integration grid\n",
    "# dv = # width of the rectangles for integration\n",
    "\n",
    "\n",
    "# print('Number of grid points ', n)\n",
    "# print('Value of work, ', w)"
   ]
  },
  {
   "cell_type": "code",
   "execution_count": 49,
   "metadata": {},
   "outputs": [
    {
     "name": "stdout",
     "output_type": "stream",
     "text": [
      "0.09090909090909083\n",
      "69.39140063552806\n"
     ]
    }
   ],
   "source": [
    "vi = 1.\n",
    "vf = 10\n",
    "    \n",
    "n = 100    \n",
    "v = np.linspace(vi,vf, n)\n",
    "dv = v[1] - v[0]\n",
    "print(dv)\n",
    "\n",
    "p = f_P(v)\n",
    "\n",
    "w = 0\n",
    "for vj in v[:-1]:\n",
    "    vl = vj + dv/2\n",
    "    pj = f_P(vj)\n",
    "    aj = pj*(dv)\n",
    "    w += aj\n",
    "\n",
    "print(w)\n",
    "\n",
    "                       "
   ]
  },
  {
   "cell_type": "markdown",
   "metadata": {},
   "source": [
    "Compute the true value of $P(T,V)$ for this process.\n",
    "$$\n",
    "w = -\\int_{V_{i}}^{V_{f}} P(T,V) dV = -\\int_{V_{i}}^{V_{f}} \\left ( \\sin(V) + a V + b \\right ) dV \n",
    "$$\n",
    "where $a = -0.55$ and $b = 10.55$.\n",
    "\n",
    "<!-- w = -69.1044 -->"
   ]
  },
  {
   "cell_type": "markdown",
   "metadata": {},
   "source": []
  },
  {
   "cell_type": "markdown",
   "metadata": {},
   "source": [
    "Using your code, how many grid points are required for numerical integration to approximate the true value  95%.\n",
    "The formula for mean percentage error (MPE) for a single point is,\n",
    "$$\n",
    "MPE =  \\left| \\frac{y - \\hat{y}}{y} \\right|100\\%,\n",
    "$$\n",
    "where $\\hat{y}$ is the true or exact value and $y$ is the predicted one.\n"
   ]
  },
  {
   "cell_type": "code",
   "execution_count": null,
   "metadata": {},
   "outputs": [],
   "source": [
    "# # create a function for the MPE\n",
    "# def MPE(y, y_hat):\n",
    "#     #code here\n",
    "#     return value"
   ]
  },
  {
   "cell_type": "code",
   "execution_count": 36,
   "metadata": {},
   "outputs": [],
   "source": [
    "# create a function for the MPE\n",
    "def MPE(y,y_hat):\n",
    "    e = (y - y_hat)/y_hat\n",
    "    return np.abs(e) * 100"
   ]
  },
  {
   "cell_type": "code",
   "execution_count": null,
   "metadata": {},
   "outputs": [],
   "source": []
  }
 ],
 "metadata": {
  "kernelspec": {
   "display_name": "chem3pc3",
   "language": "python",
   "name": "python3"
  },
  "language_info": {
   "codemirror_mode": {
    "name": "ipython",
    "version": 3
   },
   "file_extension": ".py",
   "mimetype": "text/x-python",
   "name": "python",
   "nbconvert_exporter": "python",
   "pygments_lexer": "ipython3",
   "version": "3.12.4"
  }
 },
 "nbformat": 4,
 "nbformat_minor": 2
}
